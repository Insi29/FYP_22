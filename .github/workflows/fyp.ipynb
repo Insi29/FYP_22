{
  "nbformat": 4,
  "nbformat_minor": 0,
  "metadata": {
    "kernelspec": {
      "language": "python",
      "display_name": "Python 3",
      "name": "python3"
    },
    "language_info": {
      "name": "python",
      "version": "3.7.10",
      "mimetype": "text/x-python",
      "codemirror_mode": {
        "name": "ipython",
        "version": 3
      },
      "pygments_lexer": "ipython3",
      "nbconvert_exporter": "python",
      "file_extension": ".py"
    },
    "colab": {
      "name": "fyp.ipynb",
      "provenance": []
    }
  },
  "cells": [
    {
      "cell_type": "markdown",
      "metadata": {
        "id": "SPKm-p-5HddX"
      },
      "source": [
        "# **Import Libraries**"
      ]
    },
    {
      "cell_type": "code",
      "metadata": {
        "execution": {
          "iopub.status.busy": "2021-10-22T17:11:53.297151Z",
          "iopub.execute_input": "2021-10-22T17:11:53.297696Z",
          "iopub.status.idle": "2021-10-22T17:12:00.431042Z",
          "shell.execute_reply.started": "2021-10-22T17:11:53.297655Z",
          "shell.execute_reply": "2021-10-22T17:12:00.430246Z"
        },
        "trusted": true,
        "colab": {
          "base_uri": "https://localhost:8080/"
        },
        "id": "amcX0RxKHddb",
        "outputId": "4cd32bcf-5cb4-473b-a583-619fa7391eab"
      },
      "source": [
        "#Import all libraries\n",
        "#Install EMIST library, import datasets of letters, Matplotlib\n",
        "!pip3 install emnist\n",
        "from emnist import list_datasets\n",
        "import matplotlib as mpl\n",
        "import numpy as np # linear algebra\n",
        "import pandas as pd\n",
        "from pandas_profiling import ProfileReport\n",
        "import matplotlib.pyplot as plt\n",
        "%matplotlib inline\n",
        "import torch\n",
        "import torchvision\n",
        "import tensorflow as tf\n",
        "import torch\n",
        "import torch.nn as nn\n",
        "import numpy as np\n",
        "import torch.nn.functional as F\n",
        "from torchvision.datasets import EMNIST\n",
        "from torch.utils.data import DataLoader\n",
        "import torchvision.transforms as tt\n",
        "from torch.utils.data import random_split\n",
        "from torchvision.utils import make_grid\n",
        "\n",
        "from emnist import extract_training_samples\n",
        "from PIL import Image\n",
        "import matplotlib\n",
        "import matplotlib.pyplot as plt\n",
        "%matplotlib inline\n",
        "\n",
        "matplotlib.rcParams['figure.facecolor'] = '#ffffff'"
      ],
      "execution_count": 1,
      "outputs": [
        {
          "output_type": "stream",
          "name": "stdout",
          "text": [
            "Collecting emnist\n",
            "  Downloading emnist-0.0-py3-none-any.whl (7.3 kB)\n",
            "Requirement already satisfied: requests in /usr/local/lib/python3.7/dist-packages (from emnist) (2.23.0)\n",
            "Requirement already satisfied: numpy in /usr/local/lib/python3.7/dist-packages (from emnist) (1.19.5)\n",
            "Requirement already satisfied: tqdm in /usr/local/lib/python3.7/dist-packages (from emnist) (4.62.3)\n",
            "Requirement already satisfied: idna<3,>=2.5 in /usr/local/lib/python3.7/dist-packages (from requests->emnist) (2.10)\n",
            "Requirement already satisfied: chardet<4,>=3.0.2 in /usr/local/lib/python3.7/dist-packages (from requests->emnist) (3.0.4)\n",
            "Requirement already satisfied: urllib3!=1.25.0,!=1.25.1,<1.26,>=1.21.1 in /usr/local/lib/python3.7/dist-packages (from requests->emnist) (1.24.3)\n",
            "Requirement already satisfied: certifi>=2017.4.17 in /usr/local/lib/python3.7/dist-packages (from requests->emnist) (2021.5.30)\n",
            "Installing collected packages: emnist\n",
            "Successfully installed emnist-0.0\n"
          ]
        }
      ]
    },
    {
      "cell_type": "code",
      "metadata": {
        "execution": {
          "iopub.status.busy": "2021-10-22T16:54:47.000665Z",
          "iopub.execute_input": "2021-10-22T16:54:47.001014Z",
          "iopub.status.idle": "2021-10-22T16:54:47.015317Z",
          "shell.execute_reply.started": "2021-10-22T16:54:47.000977Z",
          "shell.execute_reply": "2021-10-22T16:54:47.014593Z"
        },
        "trusted": true,
        "id": "5IJode7XHdde"
      },
      "source": [
        "#Download dataset and it is 536 MB\n",
        "list_datasets()"
      ],
      "execution_count": null,
      "outputs": []
    },
    {
      "cell_type": "code",
      "metadata": {
        "execution": {
          "iopub.status.busy": "2021-10-22T17:01:38.450127Z",
          "iopub.execute_input": "2021-10-22T17:01:38.450405Z",
          "iopub.status.idle": "2021-10-22T17:01:42.711758Z",
          "shell.execute_reply.started": "2021-10-22T17:01:38.450375Z",
          "shell.execute_reply": "2021-10-22T17:01:42.710774Z"
        },
        "trusted": true,
        "id": "wPAAMxqVHddf"
      },
      "source": [
        "\n",
        "images, labels = extract_training_samples('byclass')\n",
        "images.shape"
      ],
      "execution_count": null,
      "outputs": []
    },
    {
      "cell_type": "markdown",
      "metadata": {
        "id": "uMlaSLXuHddg"
      },
      "source": [
        "# **GPU Running**"
      ]
    },
    {
      "cell_type": "code",
      "metadata": {
        "execution": {
          "iopub.status.busy": "2021-10-22T17:12:04.576038Z",
          "iopub.execute_input": "2021-10-22T17:12:04.576314Z",
          "iopub.status.idle": "2021-10-22T17:12:04.584429Z",
          "shell.execute_reply.started": "2021-10-22T17:12:04.576285Z",
          "shell.execute_reply": "2021-10-22T17:12:04.583427Z"
        },
        "trusted": true,
        "id": "BPAPwWk9Hddi"
      },
      "source": [
        "# Get the GPU device name.\n",
        "def get_default_device():\n",
        "    \"\"\"Pick GPU if available, else CPU\"\"\"\n",
        "    if torch.cuda.is_available():\n",
        "        return torch.device('cuda')\n",
        "    else:\n",
        "        return torch.device('cpu')\n",
        "    \n",
        "def to_device(data, device):\n",
        "    \"\"\"Move tensor(s) to chosen device\"\"\"\n",
        "    if isinstance(data, (list,tuple)):\n",
        "        return [to_device(x, device) for x in data]\n",
        "    return data.to(device, non_blocking=True)\n",
        "\n",
        "class DeviceDataLoader():\n",
        "    \"\"\"Wrap a dataloader to move data to a device\"\"\"\n",
        "    def __init__(self, dl, device):\n",
        "        self.dl = dl\n",
        "        self.device = device\n",
        "        \n",
        "    def __iter__(self):\n",
        "        \"\"\"Yield a batch of data after moving it to device\"\"\"\n",
        "        for b in self.dl: \n",
        "            yield to_device(b, self.device)\n",
        "\n",
        "    def __len__(self):\n",
        "        \"\"\"Number of batches\"\"\"\n",
        "        return len(self.dl)"
      ],
      "execution_count": null,
      "outputs": []
    },
    {
      "cell_type": "code",
      "metadata": {
        "execution": {
          "iopub.status.busy": "2021-10-22T17:12:16.622393Z",
          "iopub.execute_input": "2021-10-22T17:12:16.622967Z",
          "iopub.status.idle": "2021-10-22T17:12:16.631521Z",
          "shell.execute_reply.started": "2021-10-22T17:12:16.622929Z",
          "shell.execute_reply": "2021-10-22T17:12:16.630538Z"
        },
        "trusted": true,
        "id": "1DeLlQ8gHddk"
      },
      "source": [
        "# Returns current working runtype\n",
        "\n",
        "device = get_default_device()\n",
        "device"
      ],
      "execution_count": null,
      "outputs": []
    },
    {
      "cell_type": "markdown",
      "metadata": {
        "id": "zkkyWTESHddl"
      },
      "source": [
        "# **DataLoader Preparation**"
      ]
    },
    {
      "cell_type": "code",
      "metadata": {
        "execution": {
          "iopub.status.busy": "2021-10-22T17:05:25.276668Z",
          "iopub.execute_input": "2021-10-22T17:05:25.277361Z",
          "iopub.status.idle": "2021-10-22T17:05:51.093118Z",
          "shell.execute_reply.started": "2021-10-22T17:05:25.277324Z",
          "shell.execute_reply": "2021-10-22T17:05:51.092293Z"
        },
        "trusted": true,
        "id": "D-u9bzGCHddm"
      },
      "source": [
        "dataset = EMNIST(root=\"data/\", split=\"byclass\", download=True, train=True, \n",
        "                transform=tt.Compose([\n",
        "                    lambda img: tt.functional.rotate(img, -90),\n",
        "                    lambda img: tt.functional.hflip(img),\n",
        "                    tt.ToTensor()\n",
        "                ]))\n",
        "random_seed = 50\n",
        "torch.manual_seed(random_seed);\n",
        "\n",
        "val_size = 50000\n",
        "train_size = len(dataset) - val_size\n"
      ],
      "execution_count": null,
      "outputs": []
    },
    {
      "cell_type": "code",
      "metadata": {
        "execution": {
          "iopub.status.busy": "2021-10-22T17:08:07.376030Z",
          "iopub.execute_input": "2021-10-22T17:08:07.376674Z",
          "iopub.status.idle": "2021-10-22T17:08:07.446247Z",
          "shell.execute_reply.started": "2021-10-22T17:08:07.376637Z",
          "shell.execute_reply": "2021-10-22T17:08:07.445254Z"
        },
        "trusted": true,
        "id": "ZW0n25HSHddn"
      },
      "source": [
        "train_ds, val_ds = random_split(dataset, [train_size, val_size])\n",
        "len(train_ds), len(val_ds)"
      ],
      "execution_count": null,
      "outputs": []
    },
    {
      "cell_type": "code",
      "metadata": {
        "execution": {
          "iopub.status.busy": "2021-10-22T17:33:52.141075Z",
          "iopub.execute_input": "2021-10-22T17:33:52.141337Z",
          "iopub.status.idle": "2021-10-22T17:33:52.147043Z",
          "shell.execute_reply.started": "2021-10-22T17:33:52.141309Z",
          "shell.execute_reply": "2021-10-22T17:33:52.145630Z"
        },
        "trusted": true,
        "id": "eGjmswvWHddo"
      },
      "source": [
        "batch_size = 400\n",
        "\n",
        "train_dl = DataLoader(train_ds, batch_size, shuffle=True, num_workers=4, pin_memory=True)\n",
        "val_dl = DataLoader(val_ds, batch_size*2, num_workers=4, pin_memory=True)"
      ],
      "execution_count": null,
      "outputs": []
    },
    {
      "cell_type": "code",
      "metadata": {
        "execution": {
          "iopub.status.busy": "2021-10-22T17:33:54.759694Z",
          "iopub.execute_input": "2021-10-22T17:33:54.760207Z",
          "iopub.status.idle": "2021-10-22T17:33:56.301477Z",
          "shell.execute_reply.started": "2021-10-22T17:33:54.760167Z",
          "shell.execute_reply": "2021-10-22T17:33:56.299627Z"
        },
        "trusted": true,
        "id": "u977pTfKHddq"
      },
      "source": [
        "# Lets see a batch of images\n",
        "\n",
        "def show_batch(dl):\n",
        "    for images, labels in dl:\n",
        "        fig, ax = plt.subplots(figsize=(12, 12))\n",
        "        ax.set_xticks([]); ax.set_yticks([])\n",
        "        ax.imshow(make_grid(images, nrow=20).permute(1, 2, 0))\n",
        "        break\n",
        "        \n",
        "show_batch(train_dl)"
      ],
      "execution_count": null,
      "outputs": []
    },
    {
      "cell_type": "code",
      "metadata": {
        "execution": {
          "iopub.status.busy": "2021-10-22T17:34:03.450220Z",
          "iopub.execute_input": "2021-10-22T17:34:03.450487Z",
          "iopub.status.idle": "2021-10-22T17:34:03.456169Z",
          "shell.execute_reply.started": "2021-10-22T17:34:03.450456Z",
          "shell.execute_reply": "2021-10-22T17:34:03.455418Z"
        },
        "trusted": true,
        "id": "pYIl9HGWHdds"
      },
      "source": [
        "train_dl = DeviceDataLoader(train_dl, device)\n",
        "val_dl = DeviceDataLoader(val_dl, device)"
      ],
      "execution_count": null,
      "outputs": []
    }
  ]
}